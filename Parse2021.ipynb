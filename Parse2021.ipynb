{
 "cells": [
  {
   "cell_type": "code",
   "execution_count": 2,
   "metadata": {},
   "outputs": [],
   "source": [
    "import json\n",
    "import pandas as pd"
   ]
  },
  {
   "cell_type": "code",
   "execution_count": 42,
   "metadata": {},
   "outputs": [],
   "source": [
    "\n",
    "\n",
    "file_name = \"data/2021.json\"\n",
    "\n",
    "with open(file_name, \"r\") as f:\n",
    "    data = json.loads(f.read())\n",
    "events = [e[\"Event\"] for e in data[\"venues\"] if len(e[\"Event\"]) > 0]\n"
   ]
  },
  {
   "cell_type": "code",
   "execution_count": 43,
   "metadata": {},
   "outputs": [
    {
     "data": {
      "text/plain": [
       "[{'id': '4227',\n",
       "  'site_id': '5',\n",
       "  'facebook_tracking': '',\n",
       "  'link': '',\n",
       "  'iticket': None,\n",
       "  'invoiced': False,\n",
       "  'created': '2021-03-02 11:15:10',\n",
       "  'modified': '2021-05-26 14:48:03',\n",
       "  'views': '0',\n",
       "  'enabled': True,\n",
       "  'cancelled': False,\n",
       "  'hidden': False,\n",
       "  'finalised': True,\n",
       "  'featured': False,\n",
       "  'close_tickets_x_minutes_before': '30',\n",
       "  'user_id': '1352',\n",
       "  'venue_id': '699',\n",
       "  'reference_num': '',\n",
       "  'title': 'Dine Application form 2021 1154',\n",
       "  'registration_fees': None,\n",
       "  'event_type_id': '44',\n",
       "  'blurb': None,\n",
       "  'content': None,\n",
       "  'notes': None,\n",
       "  'image': 'https://goodcms.s3.amazonaws.com/woap/event/Gnocchi-final-1154-210511-110041.jpg',\n",
       "  'image2': None,\n",
       "  'json': None,\n",
       "  'tags': None,\n",
       "  'soldout': False,\n",
       "  'sellingfast': False,\n",
       "  'weeklong': False,\n",
       "  'multiday': False,\n",
       "  'label': '',\n",
       "  'label_flag': '',\n",
       "  'label_hex': '',\n",
       "  'region': None,\n",
       "  'public_link': '/event/view/4227-dine-application-form-2021-1154',\n",
       "  'sessions': [],\n",
       "  'session_tickets': [],\n",
       "  'keywords': 'pasta\\r\\ngnocchi\\r\\ncheese\\r\\ncheesy\\r\\ntruffle\\r\\npancetta\\r\\ncreamy',\n",
       "  'are_bookings_required': 'No',\n",
       "  'price': '',\n",
       "  'price_for_ten_courses': '',\n",
       "  'price_for_nine_courses': '',\n",
       "  'price_for_eight_courses': '',\n",
       "  'price_for_seven_courses': '',\n",
       "  'price_for_six_courses': '',\n",
       "  'price_for_five_courses': '',\n",
       "  'price_for_four_courses': '',\n",
       "  'price_for_three_courses': '',\n",
       "  'price_for_two_course': '',\n",
       "  'how_many_courses_will_you_offer': '',\n",
       "  'is_your_festival_dish_part_of_a_fixed_menu_offering': ['No'],\n",
       "  'availability': ['Lunch', 'Dinner'],\n",
       "  'is_your_festival_dish': ['Nut Free'],\n",
       "  'price_of_your_festival_dish': '28',\n",
       "  'festival_dish_description': 'Housemade gnocchi with pan-fried pancetta, four cheese and pepper sauce and shaved fresh black truffle.',\n",
       "  'wellington_story': \"Gnocchi has forever been intertwined with our past in Wellington. We've always made a famous version, from Il Casino, to Duke Carvel's, Scopa and Crazy Horse it has been a hugely popular dish that has brought Wellingtonians out in their masses. \\r\\n\\r\\nWell, now 1154 gets its turn. In traditional 1154 style; we've take a couple of Italian classics and bound them together. 1154 Gnocchi Cacio e Pepe; it's a Wellington story of its own.\",\n",
       "  'dish_name': 'Gnocchi Cacio e Pepe',\n",
       "  'general_sale_tickets_soldout': 0},\n",
       " {'id': '4463',\n",
       "  'site_id': '5',\n",
       "  'facebook_tracking': '',\n",
       "  'link': '',\n",
       "  'iticket': None,\n",
       "  'invoiced': False,\n",
       "  'created': '2021-03-09 12:52:34',\n",
       "  'modified': '2021-05-14 08:17:15',\n",
       "  'views': '0',\n",
       "  'enabled': True,\n",
       "  'cancelled': False,\n",
       "  'hidden': False,\n",
       "  'finalised': True,\n",
       "  'featured': False,\n",
       "  'close_tickets_x_minutes_before': '30',\n",
       "  'user_id': '1352',\n",
       "  'venue_id': '699',\n",
       "  'reference_num': '',\n",
       "  'title': 'Burger 1154 2021',\n",
       "  'registration_fees': None,\n",
       "  'event_type_id': '41',\n",
       "  'blurb': None,\n",
       "  'content': None,\n",
       "  'notes': None,\n",
       "  'image': 'https://goodcms.s3.amazonaws.com/woap/event/Big-Ring-final-1154-210511-110022.jpg',\n",
       "  'image2': None,\n",
       "  'json': None,\n",
       "  'tags': None,\n",
       "  'soldout': False,\n",
       "  'sellingfast': False,\n",
       "  'weeklong': False,\n",
       "  'multiday': False,\n",
       "  'label': '',\n",
       "  'label_flag': '',\n",
       "  'label_hex': '',\n",
       "  'region': None,\n",
       "  'public_link': '/event/view/4463-burger-1154-2021',\n",
       "  'sessions': [],\n",
       "  'session_tickets': [],\n",
       "  'keywords': 'beef\\r\\nchips\\r\\ncheese\\r\\nburger\\r\\nburger ring\\r\\nfun',\n",
       "  'total_price_for_burger_beer_match': '30',\n",
       "  'select_your_garage_project_beer_match': 'Raspberry Cabaret',\n",
       "  'has_beer_match': ['Yes'],\n",
       "  'does_your_burger_offering_cater_to_please_leave_blank_if_you_cannot_cater_to_these_dietaries': '',\n",
       "  'are_bookings_required': 'No',\n",
       "  'will_you_be_offering_your_burger_for_takeaway_orders': 'Yes',\n",
       "  'are_you_happy_for_customers_to_share_burgers': 'Yes',\n",
       "  'availability': ['Lunch', 'Dinner'],\n",
       "  'burger_price': '23',\n",
       "  'burger_description': 'Double beef patty with double American cheese, white onion, burger-flavoured ring-shaped corn chips and housemade secret sauce in a Brezelmania tomato and milk Burger Ring-flavoured bun.',\n",
       "  'are_fries_included': ['No'],\n",
       "  'what_is_the_main_protein_of_your_burger': ['Beef'],\n",
       "  'name_of_burger': 'The Big Ring',\n",
       "  'general_sale_tickets_soldout': 0}]"
      ]
     },
     "execution_count": 43,
     "metadata": {},
     "output_type": "execute_result"
    }
   ],
   "source": [
    "events[0]"
   ]
  },
  {
   "cell_type": "code",
   "execution_count": 41,
   "metadata": {},
   "outputs": [
    {
     "data": {
      "text/plain": [
       "{'Burger Name': 'The Big Ring',\n",
       " 'Burger Description': 'Double beef patty with double American cheese, white onion, burger-flavoured ring-shaped corn chips and housemade secret sauce in a Brezelmania tomato and milk Burger Ring-flavoured bun.',\n",
       " 'Restaurant': '699',\n",
       " 'Price': '23',\n",
       " 'Year': 2021,\n",
       " 'Beef': 'Yes',\n",
       " 'Chicken': None,\n",
       " 'Duck': None,\n",
       " 'Lamb': None,\n",
       " 'Pork': None,\n",
       " 'Seafood': None,\n",
       " 'Sweet': None,\n",
       " 'Vegetarian': None,\n",
       " 'Venison': None}"
      ]
     },
     "execution_count": 41,
     "metadata": {},
     "output_type": "execute_result"
    }
   ],
   "source": [
    "burgers[0]"
   ]
  },
  {
   "cell_type": "code",
   "execution_count": 63,
   "metadata": {},
   "outputs": [],
   "source": [
    "burgers = []\n",
    "for event in events:\n",
    "    for e in event:\n",
    "        if \"name_of_burger\" in e.keys():\n",
    "            d = {}\n",
    "            d[\"Burger Name\"] = e[\"name_of_burger\"]\n",
    "            d[\"Burger Description\"] = e[\"burger_description\"]\n",
    "            d[\"Restaurant\"] = e[\"venue_id\"]\n",
    "            d[\"Price\"] = e[\"burger_price\"]\n",
    "            d[\"Year\"] = 2021\n",
    "            for p in [\"Beef\", \"Chicken\", \"Duck\", \"Lamb\", \"Pork\", \"Seafood\", \"Venison\"]:\n",
    "                d[p] = \"Yes\" if p in e[\"what_is_the_main_protein_of_your_burger\"] else \"\"\n",
    "            d[\"Vegetarian\"] = \"Yes\" if \"Veggie\" in e[\"what_is_the_main_protein_of_your_burger\"] or \"Alternative meat\" in e[\"what_is_the_main_protein_of_your_burger\"] else \"\"\n",
    "            d[\"Sweet\"] = \"Yes\" if \"Sweet/Dessert\" in e[\"what_is_the_main_protein_of_your_burger\"] else \"\"\n",
    "            burgers.append(d)"
   ]
  },
  {
   "cell_type": "code",
   "execution_count": 64,
   "metadata": {},
   "outputs": [],
   "source": [
    "protiens = []\n",
    "for event in events:\n",
    "    for e in event:\n",
    "        if \"name_of_burger\" in e.keys():\n",
    "            protiens += e[\"what_is_the_main_protein_of_your_burger\"]"
   ]
  },
  {
   "cell_type": "code",
   "execution_count": 65,
   "metadata": {},
   "outputs": [
    {
     "data": {
      "text/plain": [
       "Beef                98\n",
       "Pork                52\n",
       "Chicken             49\n",
       "Seafood             20\n",
       "Lamb                19\n",
       "Veggie              18\n",
       "Other               11\n",
       "Fish                10\n",
       "Venison              9\n",
       "Alternative meat     6\n",
       "Duck                 5\n",
       "Sweet/Dessert        3\n",
       "dtype: int64"
      ]
     },
     "execution_count": 65,
     "metadata": {},
     "output_type": "execute_result"
    }
   ],
   "source": [
    "pd.Series(protiens).value_counts()"
   ]
  },
  {
   "cell_type": "code",
   "execution_count": 66,
   "metadata": {},
   "outputs": [],
   "source": [
    "new_df = pd.DataFrame(burgers)"
   ]
  },
  {
   "cell_type": "code",
   "execution_count": 67,
   "metadata": {},
   "outputs": [
    {
     "data": {
      "text/html": [
       "<div>\n",
       "<style scoped>\n",
       "    .dataframe tbody tr th:only-of-type {\n",
       "        vertical-align: middle;\n",
       "    }\n",
       "\n",
       "    .dataframe tbody tr th {\n",
       "        vertical-align: top;\n",
       "    }\n",
       "\n",
       "    .dataframe thead th {\n",
       "        text-align: right;\n",
       "    }\n",
       "</style>\n",
       "<table border=\"1\" class=\"dataframe\">\n",
       "  <thead>\n",
       "    <tr style=\"text-align: right;\">\n",
       "      <th></th>\n",
       "      <th>Burger Name</th>\n",
       "      <th>Burger Description</th>\n",
       "      <th>Restaurant</th>\n",
       "      <th>Price</th>\n",
       "      <th>Year</th>\n",
       "      <th>Beef</th>\n",
       "      <th>Chicken</th>\n",
       "      <th>Duck</th>\n",
       "      <th>Lamb</th>\n",
       "      <th>Pork</th>\n",
       "      <th>Seafood</th>\n",
       "      <th>Venison</th>\n",
       "      <th>Vegetarian</th>\n",
       "      <th>Sweet</th>\n",
       "    </tr>\n",
       "  </thead>\n",
       "  <tbody>\n",
       "    <tr>\n",
       "      <th>0</th>\n",
       "      <td>The Big Ring</td>\n",
       "      <td>Double beef patty with double American cheese,...</td>\n",
       "      <td>699</td>\n",
       "      <td>23</td>\n",
       "      <td>2021</td>\n",
       "      <td>Yes</td>\n",
       "      <td></td>\n",
       "      <td></td>\n",
       "      <td></td>\n",
       "      <td></td>\n",
       "      <td></td>\n",
       "      <td></td>\n",
       "      <td></td>\n",
       "      <td></td>\n",
       "    </tr>\n",
       "    <tr>\n",
       "      <th>1</th>\n",
       "      <td>Baa Baa Black Sheep</td>\n",
       "      <td>Lamb shoulder with cauliflower crisp, buttercr...</td>\n",
       "      <td>58</td>\n",
       "      <td>25</td>\n",
       "      <td>2021</td>\n",
       "      <td></td>\n",
       "      <td></td>\n",
       "      <td></td>\n",
       "      <td>Yes</td>\n",
       "      <td></td>\n",
       "      <td></td>\n",
       "      <td></td>\n",
       "      <td></td>\n",
       "      <td></td>\n",
       "    </tr>\n",
       "    <tr>\n",
       "      <th>2</th>\n",
       "      <td>The Bull</td>\n",
       "      <td>Slow-cooked pulled beef brisket with housemade...</td>\n",
       "      <td>1335</td>\n",
       "      <td>22</td>\n",
       "      <td>2021</td>\n",
       "      <td>Yes</td>\n",
       "      <td></td>\n",
       "      <td></td>\n",
       "      <td></td>\n",
       "      <td></td>\n",
       "      <td></td>\n",
       "      <td></td>\n",
       "      <td></td>\n",
       "      <td></td>\n",
       "    </tr>\n",
       "    <tr>\n",
       "      <th>3</th>\n",
       "      <td>The Spice of Amador</td>\n",
       "      <td>Prime beef patty with housemade jalapeño relis...</td>\n",
       "      <td>1299</td>\n",
       "      <td>18</td>\n",
       "      <td>2021</td>\n",
       "      <td>Yes</td>\n",
       "      <td></td>\n",
       "      <td></td>\n",
       "      <td></td>\n",
       "      <td></td>\n",
       "      <td></td>\n",
       "      <td></td>\n",
       "      <td></td>\n",
       "      <td></td>\n",
       "    </tr>\n",
       "    <tr>\n",
       "      <th>4</th>\n",
       "      <td>Duck a l'Orange</td>\n",
       "      <td>Slow-roast duck with spiced blood orange compo...</td>\n",
       "      <td>432</td>\n",
       "      <td>28</td>\n",
       "      <td>2021</td>\n",
       "      <td></td>\n",
       "      <td></td>\n",
       "      <td>Yes</td>\n",
       "      <td></td>\n",
       "      <td></td>\n",
       "      <td></td>\n",
       "      <td></td>\n",
       "      <td></td>\n",
       "      <td></td>\n",
       "    </tr>\n",
       "  </tbody>\n",
       "</table>\n",
       "</div>"
      ],
      "text/plain": [
       "           Burger Name                                 Burger Description  \\\n",
       "0         The Big Ring  Double beef patty with double American cheese,...   \n",
       "1  Baa Baa Black Sheep  Lamb shoulder with cauliflower crisp, buttercr...   \n",
       "2             The Bull  Slow-cooked pulled beef brisket with housemade...   \n",
       "3  The Spice of Amador  Prime beef patty with housemade jalapeño relis...   \n",
       "4      Duck a l'Orange  Slow-roast duck with spiced blood orange compo...   \n",
       "\n",
       "  Restaurant Price  Year Beef Chicken Duck Lamb Pork Seafood Venison  \\\n",
       "0        699    23  2021  Yes                                          \n",
       "1         58    25  2021                    Yes                        \n",
       "2       1335    22  2021  Yes                                          \n",
       "3       1299    18  2021  Yes                                          \n",
       "4        432    28  2021               Yes                             \n",
       "\n",
       "  Vegetarian Sweet  \n",
       "0                   \n",
       "1                   \n",
       "2                   \n",
       "3                   \n",
       "4                   "
      ]
     },
     "execution_count": 67,
     "metadata": {},
     "output_type": "execute_result"
    }
   ],
   "source": [
    "new_df.head()"
   ]
  },
  {
   "cell_type": "code",
   "execution_count": 61,
   "metadata": {},
   "outputs": [],
   "source": [
    "df = pd.read_csv(\"burgers.csv\")"
   ]
  },
  {
   "cell_type": "code",
   "execution_count": 69,
   "metadata": {},
   "outputs": [],
   "source": [
    "combined = pd.concat([df, new_df])"
   ]
  },
  {
   "cell_type": "code",
   "execution_count": 71,
   "metadata": {},
   "outputs": [
    {
     "data": {
      "text/plain": [
       "2021    256\n",
       "2019    233\n",
       "2018    180\n",
       "2017    123\n",
       "2016    120\n",
       "2015     81\n",
       "2014     51\n",
       "Name: Year, dtype: int64"
      ]
     },
     "execution_count": 71,
     "metadata": {},
     "output_type": "execute_result"
    }
   ],
   "source": [
    "combined[\"Year\"].value_counts()"
   ]
  },
  {
   "cell_type": "code",
   "execution_count": null,
   "metadata": {},
   "outputs": [],
   "source": []
  }
 ],
 "metadata": {
  "kernelspec": {
   "display_name": "Python 3",
   "language": "python",
   "name": "python3"
  },
  "language_info": {
   "codemirror_mode": {
    "name": "ipython",
    "version": 3
   },
   "file_extension": ".py",
   "mimetype": "text/x-python",
   "name": "python",
   "nbconvert_exporter": "python",
   "pygments_lexer": "ipython3",
   "version": "3.7.6"
  }
 },
 "nbformat": 4,
 "nbformat_minor": 4
}
