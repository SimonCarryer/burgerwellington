{
 "cells": [
  {
   "cell_type": "code",
   "execution_count": 1,
   "metadata": {},
   "outputs": [],
   "source": [
    "import pandas as pd\n",
    "import seaborn as sns\n",
    "from matplotlib import pyplot as plt\n",
    "from numpy import NaN\n",
    "import numpy as np\n",
    "\n",
    "sns.set_style(\"white\")\n",
    "\n",
    "%matplotlib inline"
   ]
  },
  {
   "cell_type": "markdown",
   "metadata": {},
   "source": [
    "## Load and clean data"
   ]
  },
  {
   "cell_type": "code",
   "execution_count": 69,
   "metadata": {},
   "outputs": [],
   "source": [
    "df = pd.read_csv('data/burgers.csv', encoding='utf-8').fillna(0)"
   ]
  },
  {
   "cell_type": "code",
   "execution_count": 70,
   "metadata": {},
   "outputs": [
    {
     "data": {
      "text/plain": [
       "array([2022, 2021, 2018, 2017, 2015, 2014, 2016, 2019, 2020])"
      ]
     },
     "execution_count": 70,
     "metadata": {},
     "output_type": "execute_result"
    }
   ],
   "source": [
    "df[\"Year\"].unique()"
   ]
  },
  {
   "cell_type": "code",
   "execution_count": 71,
   "metadata": {},
   "outputs": [],
   "source": [
    "df.columns = [name.strip().lower() for name in df.columns]"
   ]
  },
  {
   "cell_type": "markdown",
   "metadata": {},
   "source": [
    "Some of the descriptions got all weird and duplicated in one of the spreadsheets, so I gotta fix it."
   ]
  },
  {
   "cell_type": "code",
   "execution_count": 72,
   "metadata": {},
   "outputs": [],
   "source": [
    "def snip(text):\n",
    "    index = text[20:].find(text[:20])\n",
    "    if index > 0:\n",
    "        return text[:index+20]\n",
    "    else:\n",
    "        return text\n",
    "    \n",
    "df['burger description'] = df['burger description'].apply(snip)"
   ]
  },
  {
   "cell_type": "code",
   "execution_count": 73,
   "metadata": {},
   "outputs": [],
   "source": [
    "df[df.columns[-12:]] = df[df.columns[-12:]].replace({'Yes': 1})"
   ]
  },
  {
   "cell_type": "code",
   "execution_count": 74,
   "metadata": {},
   "outputs": [],
   "source": [
    "df['price'] = df.price.astype(str).apply(lambda x: float(x.replace('$',''))).replace(0, 20)"
   ]
  },
  {
   "cell_type": "code",
   "execution_count": 75,
   "metadata": {},
   "outputs": [],
   "source": [
    "df['other'] = (df[['chicken', 'beef', 'pork', 'lamb', u'seafood']].sum(axis=1) == 0)*1"
   ]
  },
  {
   "cell_type": "code",
   "execution_count": 76,
   "metadata": {},
   "outputs": [],
   "source": [
    "def grams(t):\n",
    "    return [t.lower()[0:i] for i in range(len(t)+1)]\n",
    "\n",
    "def substring_match(a, b):\n",
    "    g_a = grams(a)\n",
    "    g_b = grams(b)\n",
    "    matches = [len(g) for g in g_a if g in g_b]\n",
    "    if len(matches) > 0:\n",
    "        return max(matches)\n",
    "    else:\n",
    "        return 0"
   ]
  },
  {
   "cell_type": "code",
   "execution_count": 77,
   "metadata": {},
   "outputs": [],
   "source": [
    "restaurants = df[\"restaurant\"].unique()\n",
    "restaurants = restaurants[pd.Series(restaurants).str.len().argsort()] #sort shortest to longest"
   ]
  },
  {
   "cell_type": "code",
   "execution_count": 78,
   "metadata": {},
   "outputs": [],
   "source": [
    "matches = [[substring_match(r1, r2) for r2 in restaurants] for r1 in restaurants]\n",
    "matches = pd.DataFrame(matches, index=restaurants, columns=restaurants)"
   ]
  },
  {
   "cell_type": "code",
   "execution_count": 79,
   "metadata": {},
   "outputs": [],
   "source": [
    "target = restaurants[16]"
   ]
  },
  {
   "cell_type": "code",
   "execution_count": 80,
   "metadata": {},
   "outputs": [
    {
     "data": {
      "text/plain": [
       "olive    5\n",
       "Olive    5\n",
       "Name: olive, dtype: int64"
      ]
     },
     "execution_count": 80,
     "metadata": {},
     "output_type": "execute_result"
    }
   ],
   "source": [
    "m = matches.loc[target]\n",
    "m.loc[(m > len(target) / 2) & (m > 3)]"
   ]
  },
  {
   "cell_type": "markdown",
   "metadata": {},
   "source": [
    "## Some Descriptive Stats"
   ]
  },
  {
   "cell_type": "code",
   "execution_count": 181,
   "metadata": {},
   "outputs": [
    {
     "data": {
      "text/plain": [
       "year\n",
       "2014    1060.5\n",
       "2015    1687.0\n",
       "2016    2429.5\n",
       "2017    2569.5\n",
       "2018    3779.0\n",
       "2019    4967.0\n",
       "2020    5326.0\n",
       "2021    5888.0\n",
       "2022    5207.0\n",
       "Name: price, dtype: float64"
      ]
     },
     "execution_count": 181,
     "metadata": {},
     "output_type": "execute_result"
    }
   ],
   "source": [
    "df.groupby('year')['price'].sum()"
   ]
  },
  {
   "cell_type": "code",
   "execution_count": 172,
   "metadata": {},
   "outputs": [
    {
     "data": {
      "image/png": "[encoded data removed]",
      "text/plain": [
       "<Figure size 432x288 with 1 Axes>"
      ]
     },
     "metadata": {
      "needs_background": "light"
     },
     "output_type": "display_data"
    }
   ],
   "source": [
    "vals = df.groupby('year')['restaurant'].count().rename(\"Burgers\")\n",
    "\n",
    "vals.plot(kind=\"bar\")\n",
    "plt.title(\"The number of participating restaurants dropped in 2022\")\n",
    "plt.savefig('burger_counts.png', bbox_inches='tight', facecolor='white')\n",
    "plt.show()"
   ]
  },
  {
   "cell_type": "code",
   "execution_count": 82,
   "metadata": {},
   "outputs": [],
   "source": [
    "# 600 X 335 pixels\n",
    "\n",
    "x_dim = 600/80\n",
    "y_dim = 335/80"
   ]
  },
  {
   "cell_type": "code",
   "execution_count": 83,
   "metadata": {},
   "outputs": [],
   "source": [
    "inflation_adjustments = {k: v for k, v in [[2014,1],\n",
    "[2015,1.01],\n",
    "[2016,1.01],\n",
    "[2017,1.02],\n",
    "[2018,1.04],\n",
    "[2019,1.06],\n",
    "[2020,1.08],\n",
    "[2021,1.09],\n",
    "[2022,1.17]]}"
   ]
  },
  {
   "cell_type": "code",
   "execution_count": 84,
   "metadata": {},
   "outputs": [],
   "source": [
    "df[\"inflation_adjusted_price\"] = df[\"price\"] * (1/df[\"year\"].map(inflation_adjustments))"
   ]
  },
  {
   "cell_type": "code",
   "execution_count": 170,
   "metadata": {},
   "outputs": [
    {
     "data": {
      "image/png": "[encoded data removed]",
      "text/plain": [
       "<Figure size 540x301.5 with 1 Axes>"
      ]
     },
     "metadata": {
      "needs_background": "light"
     },
     "output_type": "display_data"
    }
   ],
   "source": [
    "def l(x):\n",
    "    return x.quantile(q=0.25)\n",
    "\n",
    "def m(x):\n",
    "    return x.quantile(q=0.5)\n",
    "\n",
    "def h(x):\n",
    "    return x.quantile(q=0.75)\n",
    "\n",
    "vals = df.groupby('year')['inflation_adjusted_price'].agg([l, m, h]).reset_index().set_index(\"year\")\n",
    "r = range(15, 26)\n",
    "plt.yticks(r, [\"$\"+str(i) for i in r])\n",
    "\n",
    "plt.fill_between(vals.index, vals[\"h\"], vals[\"l\"], alpha=0.25)\n",
    "vals[\"m\"].plot(figsize=(x_dim, y_dim))\n",
    "plt.title(\"Adjusted for inflation there's still an increase\")\n",
    "plt.ylabel(\"Median burger price (2014 dollars)\")\n",
    "plt.xlabel(\"Year\")\n",
    "plt.savefig('inflation_adjusted_price.png', bbox_inches='tight', facecolor='white')\n",
    "plt.show()"
   ]
  },
  {
   "cell_type": "code",
   "execution_count": 174,
   "metadata": {},
   "outputs": [
    {
     "data": {
      "image/png": "[encoded data removed]",
      "text/plain": [
       "<Figure size 540x301.5 with 1 Axes>"
      ]
     },
     "metadata": {
      "needs_background": "light"
     },
     "output_type": "display_data"
    }
   ],
   "source": [
    "def l(x):\n",
    "    return x.quantile(q=0.25)\n",
    "\n",
    "def m(x):\n",
    "    return x.quantile(q=0.5)\n",
    "\n",
    "def h(x):\n",
    "    return x.quantile(q=0.75)\n",
    "\n",
    "vals = df.groupby('year')['price'].agg([l, m, h]).reset_index().set_index(\"year\")\n",
    "r = range(15, 30)\n",
    "plt.yticks(r, [\"$\"+str(i) for i in r])\n",
    "\n",
    "plt.fill_between(vals.index, vals[\"h\"], vals[\"l\"], alpha=0.25)\n",
    "vals[\"m\"].plot(figsize=(x_dim, y_dim))\n",
    "plt.title(\"Burger Wellington prices are going up\")\n",
    "plt.ylabel(\"Median burger price\")\n",
    "plt.xlabel(\"Year\")\n",
    "plt.savefig('price.png', bbox_inches='tight', facecolor='white')\n",
    "plt.show()"
   ]
  },
  {
   "cell_type": "code",
   "execution_count": 175,
   "metadata": {},
   "outputs": [
    {
     "data": {
      "text/html": [
       "<div>\n",
       "<style scoped>\n",
       "    .dataframe tbody tr th:only-of-type {\n",
       "        vertical-align: middle;\n",
       "    }\n",
       "\n",
       "    .dataframe tbody tr th {\n",
       "        vertical-align: top;\n",
       "    }\n",
       "\n",
       "    .dataframe thead th {\n",
       "        text-align: right;\n",
       "    }\n",
       "</style>\n",
       "<table border=\"1\" class=\"dataframe\">\n",
       "  <thead>\n",
       "    <tr style=\"text-align: right;\">\n",
       "      <th></th>\n",
       "      <th>l</th>\n",
       "      <th>m</th>\n",
       "      <th>h</th>\n",
       "    </tr>\n",
       "    <tr>\n",
       "      <th>year</th>\n",
       "      <th></th>\n",
       "      <th></th>\n",
       "      <th></th>\n",
       "    </tr>\n",
       "  </thead>\n",
       "  <tbody>\n",
       "    <tr>\n",
       "      <th>2014</th>\n",
       "      <td>19.000</td>\n",
       "      <td>20.0</td>\n",
       "      <td>23.0</td>\n",
       "    </tr>\n",
       "    <tr>\n",
       "      <th>2015</th>\n",
       "      <td>19.000</td>\n",
       "      <td>20.0</td>\n",
       "      <td>23.5</td>\n",
       "    </tr>\n",
       "    <tr>\n",
       "      <th>2016</th>\n",
       "      <td>18.375</td>\n",
       "      <td>20.0</td>\n",
       "      <td>22.0</td>\n",
       "    </tr>\n",
       "    <tr>\n",
       "      <th>2017</th>\n",
       "      <td>19.000</td>\n",
       "      <td>21.0</td>\n",
       "      <td>23.0</td>\n",
       "    </tr>\n",
       "    <tr>\n",
       "      <th>2018</th>\n",
       "      <td>19.000</td>\n",
       "      <td>21.0</td>\n",
       "      <td>23.0</td>\n",
       "    </tr>\n",
       "    <tr>\n",
       "      <th>2019</th>\n",
       "      <td>19.000</td>\n",
       "      <td>22.0</td>\n",
       "      <td>24.0</td>\n",
       "    </tr>\n",
       "    <tr>\n",
       "      <th>2020</th>\n",
       "      <td>20.000</td>\n",
       "      <td>22.0</td>\n",
       "      <td>25.0</td>\n",
       "    </tr>\n",
       "    <tr>\n",
       "      <th>2021</th>\n",
       "      <td>20.000</td>\n",
       "      <td>24.0</td>\n",
       "      <td>25.0</td>\n",
       "    </tr>\n",
       "    <tr>\n",
       "      <th>2022</th>\n",
       "      <td>22.000</td>\n",
       "      <td>25.0</td>\n",
       "      <td>28.0</td>\n",
       "    </tr>\n",
       "  </tbody>\n",
       "</table>\n",
       "</div>"
      ],
      "text/plain": [
       "           l     m     h\n",
       "year                    \n",
       "2014  19.000  20.0  23.0\n",
       "2015  19.000  20.0  23.5\n",
       "2016  18.375  20.0  22.0\n",
       "2017  19.000  21.0  23.0\n",
       "2018  19.000  21.0  23.0\n",
       "2019  19.000  22.0  24.0\n",
       "2020  20.000  22.0  25.0\n",
       "2021  20.000  24.0  25.0\n",
       "2022  22.000  25.0  28.0"
      ]
     },
     "execution_count": 175,
     "metadata": {},
     "output_type": "execute_result"
    }
   ],
   "source": [
    "vals.loc[]"
   ]
  },
  {
   "cell_type": "code",
   "execution_count": 87,
   "metadata": {},
   "outputs": [
    {
     "data": {
      "text/plain": [
       "0.0    1435\n",
       "0.5      52\n",
       "0.9       5\n",
       "Name: price, dtype: int64"
      ]
     },
     "execution_count": 87,
     "metadata": {},
     "output_type": "execute_result"
    }
   ],
   "source": [
    "from math import floor\n",
    "\n",
    "(df[\"price\"] - df[\"price\"].apply(floor)).value_counts()"
   ]
  },
  {
   "cell_type": "code",
   "execution_count": 88,
   "metadata": {},
   "outputs": [
    {
     "data": {
      "text/plain": [
       "burger name                                                       The Rescued\n",
       "burger description          Wild shot tahr patty with American cheddar, re...\n",
       "restaurant                                             Everybody Eats at LTD.\n",
       "price                                                                    20.0\n",
       "year                                                                     2021\n",
       "beef                                                                        0\n",
       "chicken                                                                     0\n",
       "duck                                                                        0\n",
       "lamb                                                                        0\n",
       "pork                                                                        0\n",
       "seafood                                                                     0\n",
       "venison                                                                     0\n",
       "vegetarian                                                                  0\n",
       "sweet                                                                       0\n",
       "not your usual                                                              0\n",
       "finalist                                                                    0\n",
       "winner                                                                      0\n",
       "other                                                                       1\n",
       "inflation_adjusted_price                                            18.348624\n",
       "Name: 277, dtype: object"
      ]
     },
     "execution_count": 88,
     "metadata": {},
     "output_type": "execute_result"
    }
   ],
   "source": [
    "df.iloc[277]"
   ]
  },
  {
   "cell_type": "code",
   "execution_count": 89,
   "metadata": {},
   "outputs": [
    {
     "data": {
      "image/png": "[encoded data removed]",
      "text/plain": [
       "<Figure size 540x301.5 with 1 Axes>"
      ]
     },
     "metadata": {
      "needs_background": "light"
     },
     "output_type": "display_data"
    }
   ],
   "source": [
    "vals = df.loc[df[\"price\"] <= 35][\"price\"].value_counts().sort_index().reset_index()\n",
    "\n",
    "plt.figure(figsize=(x_dim,y_dim))\n",
    "for price, count in vals.values:\n",
    "    if price - floor(price) == 0:\n",
    "        c = \"lightblue\"\n",
    "        z =1\n",
    "        a=1\n",
    "    elif price - floor(price) == 0.5:\n",
    "        c = \"darkblue\"\n",
    "        z = 2\n",
    "        a=0.7\n",
    "    else:\n",
    "        c = \"red\"\n",
    "        z = 3\n",
    "        a = 1\n",
    "    plt.plot([price, price], [0, count], c=c, linewidth=9, solid_capstyle=\"butt\", zorder=z, alpha=a)\n",
    "r = range(10, 35, 5)\n",
    "plt.ylim(0, 175)\n",
    "plt.ylabel(\"Count of burgers\")\n",
    "plt.xlabel(\"Burger price\")\n",
    "plt.title(\"Distribution of burgers by price\")\n",
    "plt.xticks(r, [\"$\"+str(i) for i in r])\n",
    "plt.savefig('price_dist.png', bbox_inches='tight')\n",
    "plt.show()"
   ]
  },
  {
   "cell_type": "code",
   "execution_count": null,
   "metadata": {},
   "outputs": [],
   "source": []
  },
  {
   "cell_type": "raw",
   "metadata": {},
   "source": [
    "sns.catplot(data=data, kind=\"bar\", y=\"Burgers\", x=\"Year\", color=\"darkgrey\", height=y_dim, aspect=x_dim/y_dim)\n",
    "plt.title('More burgers than ever')\n",
    "for i, value in enumerate(vals.values):\n",
    "    plt.text(i, value + 3, str(value), color='black', ha='center')\n",
    "plt.savefig('totals_by_year.png', bbox_inches='tight')"
   ]
  },
  {
   "cell_type": "markdown",
   "metadata": {},
   "source": [
    "## Charts"
   ]
  },
  {
   "cell_type": "code",
   "execution_count": 176,
   "metadata": {},
   "outputs": [
    {
     "data": {
      "image/png": "[encoded data removed]",
      "text/plain": [
       "<Figure size 540x301.5 with 1 Axes>"
      ]
     },
     "metadata": {
      "needs_background": "light"
     },
     "output_type": "display_data"
    }
   ],
   "source": [
    "cols = ['chicken', 'beef', 'pork', 'lamb', u'seafood', 'vegetarian']\n",
    "\n",
    "(df.groupby('year')[cols].sum()\\\n",
    "         /df.groupby('year')[cols].count()).multiply(100).round(0)\\\n",
    "        .plot(figsize=(x_dim, y_dim))\n",
    "plt.title('Proportion of burgers by protein type')\n",
    "plt.legend(bbox_to_anchor=(1, 1))\n",
    "plt.ylabel(\"Proportion of burgers\")\n",
    "plt.xticks([year for year in range(2014, 2023)])\n",
    "plt.savefig('patties.png', bbox_inches='tight', facecolor='white')"
   ]
  },
  {
   "cell_type": "code",
   "execution_count": 91,
   "metadata": {},
   "outputs": [
    {
     "data": {
      "image/png": "[encoded data removed]",
      "text/plain": [
       "<Figure size 540x301.5 with 1 Axes>"
      ]
     },
     "metadata": {
      "needs_background": "light"
     },
     "output_type": "display_data"
    }
   ],
   "source": [
    "cols = ['vegetarian']\n",
    "\n",
    "(df.groupby('year')[cols].sum()\\\n",
    "         /df.groupby('year')[cols].count()).multiply(100).round(0)\\\n",
    "        .plot(figsize=(x_dim, y_dim))\n",
    "plt.title('Proportion vegetarian burgers')\n",
    "plt.legend(\"\")\n",
    "plt.ylabel(\"Proportion of burgers\")\n",
    "#plt.xticks([year for year in range(2014, 2021)])\n",
    "plt.savefig('vegetarian.png', bbox_inches='tight')"
   ]
  },
  {
   "cell_type": "code",
   "execution_count": 92,
   "metadata": {},
   "outputs": [
    {
     "data": {
      "text/html": [
       "<div>\n",
       "<style scoped>\n",
       "    .dataframe tbody tr th:only-of-type {\n",
       "        vertical-align: middle;\n",
       "    }\n",
       "\n",
       "    .dataframe tbody tr th {\n",
       "        vertical-align: top;\n",
       "    }\n",
       "\n",
       "    .dataframe thead th {\n",
       "        text-align: right;\n",
       "    }\n",
       "</style>\n",
       "<table border=\"1\" class=\"dataframe\">\n",
       "  <thead>\n",
       "    <tr style=\"text-align: right;\">\n",
       "      <th></th>\n",
       "      <th>vegetarian</th>\n",
       "    </tr>\n",
       "    <tr>\n",
       "      <th>year</th>\n",
       "      <th></th>\n",
       "    </tr>\n",
       "  </thead>\n",
       "  <tbody>\n",
       "    <tr>\n",
       "      <th>2014</th>\n",
       "      <td>0.06</td>\n",
       "    </tr>\n",
       "    <tr>\n",
       "      <th>2015</th>\n",
       "      <td>0.02</td>\n",
       "    </tr>\n",
       "    <tr>\n",
       "      <th>2016</th>\n",
       "      <td>0.07</td>\n",
       "    </tr>\n",
       "    <tr>\n",
       "      <th>2017</th>\n",
       "      <td>0.07</td>\n",
       "    </tr>\n",
       "    <tr>\n",
       "      <th>2018</th>\n",
       "      <td>0.04</td>\n",
       "    </tr>\n",
       "    <tr>\n",
       "      <th>2019</th>\n",
       "      <td>0.07</td>\n",
       "    </tr>\n",
       "    <tr>\n",
       "      <th>2020</th>\n",
       "      <td>0.10</td>\n",
       "    </tr>\n",
       "    <tr>\n",
       "      <th>2021</th>\n",
       "      <td>0.07</td>\n",
       "    </tr>\n",
       "    <tr>\n",
       "      <th>2022</th>\n",
       "      <td>0.07</td>\n",
       "    </tr>\n",
       "  </tbody>\n",
       "</table>\n",
       "</div>"
      ],
      "text/plain": [
       "      vegetarian\n",
       "year            \n",
       "2014        0.06\n",
       "2015        0.02\n",
       "2016        0.07\n",
       "2017        0.07\n",
       "2018        0.04\n",
       "2019        0.07\n",
       "2020        0.10\n",
       "2021        0.07\n",
       "2022        0.07"
      ]
     },
     "execution_count": 92,
     "metadata": {},
     "output_type": "execute_result"
    }
   ],
   "source": [
    "(df.groupby('year')[cols].sum()/df.groupby('year')[cols].count()).round(2)"
   ]
  },
  {
   "cell_type": "code",
   "execution_count": 179,
   "metadata": {},
   "outputs": [],
   "source": [
    "year_counts = df.groupby('year')['burger description'].count().values\n",
    "years = [str(year) for year in range(2014, 2023)]"
   ]
  },
  {
   "cell_type": "code",
   "execution_count": 180,
   "metadata": {},
   "outputs": [
    {
     "data": {
      "image/png": "[encoded data removed]",
      "text/plain": [
       "<Figure size 540x301.5 with 1 Axes>"
      ]
     },
     "metadata": {
      "needs_background": "light"
     },
     "output_type": "display_data"
    }
   ],
   "source": [
    "\n",
    "buns = ['brioche', 'milk bun', 'bao', 'steamed bun', 'ciabatta', 'sesame bun', 'sesame seed bun', 'potato bun']\n",
    "bun_counts = [df['burger description'].str.contains(bun).groupby(df.year).sum().values for bun in buns]\n",
    "bun_totals = df['burger description'].str.contains(' bun').groupby(df.year).sum().values\n",
    "\n",
    "bun_df = (pd.DataFrame(bun_counts, index=buns, columns=years).transpose()).div(year_counts, axis=0)\n",
    "bun_df['steamed/bao'] = bun_df['bao'] + bun_df['steamed bun']\n",
    "bun_df['sesame'] = bun_df['sesame bun'] + bun_df['sesame seed bun']\n",
    "bun_df = bun_df[[c for c in bun_df.columns if c not in ['steamed bun', 'bao', 'sesame seed bun', 'sesame bun']]]\n",
    "\n",
    "bun_df.multiply(100).round(0).plot(figsize=(x_dim, y_dim))\n",
    "plt.title('Proportion of burgers by bun type')\n",
    "plt.ylabel(\"Proportion of burgers\")\n",
    "plt.legend(bbox_to_anchor=(1, 1))\n",
    "plt.savefig('buns.png', bbox_inches='tight', facecolor='white')"
   ]
  },
  {
   "cell_type": "code",
   "execution_count": 95,
   "metadata": {},
   "outputs": [],
   "source": [
    "buns = ['squid-ink bun', 'squid ink bun', 'charcoal bun']\n",
    "bun_counts = [df['burger description'].str.contains(bun).groupby(df.year).sum().values for bun in buns]\n",
    "#bun_totals = df['burger description'].str.contains(' bun').groupby(df.year).sum().values"
   ]
  },
  {
   "cell_type": "code",
   "execution_count": 96,
   "metadata": {},
   "outputs": [
    {
     "data": {
      "text/plain": [
       "<AxesSubplot:>"
      ]
     },
     "execution_count": 96,
     "metadata": {},
     "output_type": "execute_result"
    },
    {
     "data": {
      "image/png": "[encoded data removed]",
      "text/plain": [
       "<Figure size 432x288 with 1 Axes>"
      ]
     },
     "metadata": {
      "needs_background": "light"
     },
     "output_type": "display_data"
    }
   ],
   "source": [
    "(pd.DataFrame(bun_counts, index=buns, columns=years).sum()/bun_totals).plot()"
   ]
  },
  {
   "cell_type": "code",
   "execution_count": 97,
   "metadata": {},
   "outputs": [
    {
     "data": {
      "text/plain": [
       "[0.6862745098039216,\n",
       " 0.7777777777777778,\n",
       " 0.775,\n",
       " 0.8373983739837398,\n",
       " 0.8,\n",
       " 0.8798283261802575,\n",
       " 0.9586776859504132,\n",
       " 0.95703125,\n",
       " 0.970873786407767]"
      ]
     },
     "execution_count": 97,
     "metadata": {},
     "output_type": "execute_result"
    }
   ],
   "source": [
    "list((bun_totals / year_counts))"
   ]
  },
  {
   "cell_type": "code",
   "execution_count": 98,
   "metadata": {},
   "outputs": [
    {
     "data": {
      "image/png": "[encoded data removed]",
      "text/plain": [
       "<Figure size 432x288 with 1 Axes>"
      ]
     },
     "metadata": {
      "needs_background": "light"
     },
     "output_type": "display_data"
    }
   ],
   "source": [
    "pd.DataFrame((bun_totals / year_counts), index=range(2014, 2023)).plot(kind='bar')\n",
    "#plt.xticks([year for year in range(2014, 2020)])\n",
    "\n",
    "for i, value in enumerate(list((bun_totals / year_counts))):\n",
    "    plt.annotate(str(int(round(value*100))) + '%', xy=(i, value+0.01), color='black', fontweight='bold', ha='center')\n",
    "plt.legend('')\n",
    "plt.ylim(0.5, 1)\n",
    "plt.title('Proportion of descriptions describing bun')\n",
    "plt.savefig('bun_descriptions.png', bbox_inches='tight')\n",
    "plt.show()"
   ]
  },
  {
   "cell_type": "code",
   "execution_count": 99,
   "metadata": {},
   "outputs": [
    {
     "data": {
      "image/png": "[encoded data removed]",
      "text/plain": [
       "<Figure size 432x288 with 1 Axes>"
      ]
     },
     "metadata": {
      "needs_background": "light"
     },
     "output_type": "display_data"
    }
   ],
   "source": [
    "mayos =  ['mayo', 'aioli']\n",
    "mayo_counts = [df['burger description'].str.contains(mayo).groupby(df.year).sum().values for mayo in mayos]\n",
    "mayo_df = (pd.DataFrame(mayo_counts, index=mayos, columns=years).transpose()).div(year_counts, axis=0)\n",
    "mayo_df.plot()\n",
    "plt.title('Proportion of Burgers by Mayonnaise Type')\n",
    "plt.legend(bbox_to_anchor=(1, 1))\n",
    "plt.savefig('mayo.png', bbox_inches='tight')"
   ]
  },
  {
   "cell_type": "code",
   "execution_count": 100,
   "metadata": {},
   "outputs": [],
   "source": [
    "potato_buns = df['burger description'].str.contains('potato bun').groupby(df.year).sum().values"
   ]
  },
  {
   "cell_type": "code",
   "execution_count": 101,
   "metadata": {},
   "outputs": [
    {
     "data": {
      "image/png": "[encoded data removed]",
      "text/plain": [
       "<Figure size 432x288 with 1 Axes>"
      ]
     },
     "metadata": {
      "needs_background": "light"
     },
     "output_type": "display_data"
    }
   ],
   "source": [
    "others =  ['beetroot', u'kūmara', 'potato', 'mushroom', 'egg']\n",
    "counts = [df['burger description'].str.contains(thing).groupby(df.year).sum().values for thing in others]\n",
    "other_df = (pd.DataFrame(counts, index=others, columns=years).transpose())\n",
    "other_df['potato'] -= potato_buns\n",
    "other_df.div(year_counts, axis=0).plot()\n",
    "plt.title('Proportion of Burgers by Other Filling')\n",
    "plt.legend(bbox_to_anchor=(1, 1))\n",
    "plt.savefig('other_fillings.png', bbox_inches='tight')\n",
    "plt.show()"
   ]
  },
  {
   "cell_type": "code",
   "execution_count": 102,
   "metadata": {},
   "outputs": [
    {
     "data": {
      "image/png": "[encoded data removed]",
      "text/plain": [
       "<Figure size 432x288 with 1 Axes>"
      ]
     },
     "metadata": {
      "needs_background": "light"
     },
     "output_type": "display_data"
    }
   ],
   "source": [
    "others =  ['kimchi', u'chutney', 'mustard', 'salsa', 'sauerkraut']\n",
    "counts = [df['burger description'].str.contains(thing).groupby(df.year).sum().values for thing in others]\n",
    "other_df = (pd.DataFrame(counts, index=others, columns=years).transpose()).div(year_counts, axis=0)\n",
    "other_df.plot()\n",
    "plt.title('Proportion of Burgers by Sauce Type')\n",
    "plt.legend(bbox_to_anchor=(1, 1))\n",
    "plt.savefig('sauces.png', bbox_inches='tight')\n",
    "plt.show()"
   ]
  },
  {
   "cell_type": "markdown",
   "metadata": {},
   "source": [
    "## Pull out ingredients"
   ]
  },
  {
   "cell_type": "code",
   "execution_count": 103,
   "metadata": {},
   "outputs": [],
   "source": [
    "from nltk import word_tokenize, pos_tag, RegexpParser\n",
    "from sklearn.feature_extraction.text import CountVectorizer"
   ]
  },
  {
   "cell_type": "markdown",
   "metadata": {},
   "source": [
    "We define a \"grammar\" which is a regex-like pattern for identifying noun-phrases. This one means something like \"Any number of contiguous nouns, plural nouns, or adjectives\"."
   ]
  },
  {
   "cell_type": "code",
   "execution_count": 104,
   "metadata": {},
   "outputs": [],
   "source": [
    "grammar = ('''\n",
    "    NP: {(<NN>|<NNS>|<JJ>)*}\n",
    "    ''')\n",
    "\n",
    "chunker = RegexpParser(grammar)"
   ]
  },
  {
   "cell_type": "markdown",
   "metadata": {},
   "source": [
    "Then we can define a method which does a tiny bit of cleaning, then tags the text and identifies noun phrases."
   ]
  },
  {
   "cell_type": "code",
   "execution_count": 105,
   "metadata": {},
   "outputs": [],
   "source": [
    "def noun_phrases(text, chunker=chunker):\n",
    "    text = text.replace(\"'\", '')\n",
    "    parsed = chunker.parse(pos_tag(word_tokenize(text)))\n",
    "    return [' '.join([i[0] for i in subtree.leaves()]) for subtree in parsed.subtrees() if subtree.label() == 'NP']"
   ]
  },
  {
   "cell_type": "markdown",
   "metadata": {},
   "source": [
    "Here's an example of how it works:"
   ]
  },
  {
   "cell_type": "code",
   "execution_count": 106,
   "metadata": {},
   "outputs": [
    {
     "data": {
      "text/plain": [
       "'Confit free range ham hock with chocolate syrup drenched bacon, white chocolate truffle, honey and spiced Smoke & Oakum Gunpowder Rum in a freeze dried mānuka and Whittaker’s dark chocolate French toast Zaida’s brioche bun'"
      ]
     },
     "execution_count": 106,
     "metadata": {},
     "output_type": "execute_result"
    }
   ],
   "source": [
    "text = df['burger description'][99]\n",
    "text"
   ]
  },
  {
   "cell_type": "code",
   "execution_count": 107,
   "metadata": {},
   "outputs": [
    {
     "name": "stderr",
     "output_type": "stream",
     "text": [
      "[nltk_data] Downloading package averaged_perceptron_tagger to\n",
      "[nltk_data]     /Users/simoncarryer/nltk_data...\n",
      "[nltk_data]   Package averaged_perceptron_tagger is already up-to-\n",
      "[nltk_data]       date!\n"
     ]
    },
    {
     "data": {
      "text/plain": [
       "True"
      ]
     },
     "execution_count": 107,
     "metadata": {},
     "output_type": "execute_result"
    }
   ],
   "source": [
    "import nltk\n",
    "nltk.download('averaged_perceptron_tagger')"
   ]
  },
  {
   "cell_type": "code",
   "execution_count": 108,
   "metadata": {},
   "outputs": [
    {
     "data": {
      "text/plain": [
       "['free range ham hock',\n",
       " 'chocolate syrup',\n",
       " 'bacon',\n",
       " 'white chocolate truffle',\n",
       " 'honey',\n",
       " 'freeze',\n",
       " 'mānuka',\n",
       " 'dark chocolate French toast',\n",
       " 'brioche bun']"
      ]
     },
     "execution_count": 108,
     "metadata": {},
     "output_type": "execute_result"
    }
   ],
   "source": [
    "noun_phrases(text)"
   ]
  },
  {
   "cell_type": "markdown",
   "metadata": {},
   "source": [
    "A cool thing is that we can pass that method straight to a Count Vectorizer object, to create a bag-of-words dataframe - a table with a column for each noun phrase and a row for each burger."
   ]
  },
  {
   "cell_type": "code",
   "execution_count": 109,
   "metadata": {},
   "outputs": [
    {
     "name": "stderr",
     "output_type": "stream",
     "text": [
      "/Users/simoncarryer/opt/anaconda3/lib/python3.9/site-packages/sklearn/utils/deprecation.py:87: FutureWarning: Function get_feature_names is deprecated; get_feature_names is deprecated in 1.0 and will be removed in 1.2. Please use get_feature_names_out instead.\n",
      "  warnings.warn(msg, category=FutureWarning)\n"
     ]
    }
   ],
   "source": [
    "countvec = CountVectorizer(tokenizer=noun_phrases)\n",
    "nouns = countvec.fit_transform(df['burger description'])\n",
    "nouns_df = pd.DataFrame(nouns.toarray(), columns=countvec.get_feature_names())"
   ]
  },
  {
   "cell_type": "code",
   "execution_count": 110,
   "metadata": {},
   "outputs": [
    {
     "data": {
      "text/plain": [
       "year\n",
       "2014     393\n",
       "2015     671\n",
       "2016     982\n",
       "2017    1069\n",
       "2018    1309\n",
       "2019    2037\n",
       "2020    2224\n",
       "2021    2431\n",
       "2022    2042\n",
       "dtype: int64"
      ]
     },
     "execution_count": 110,
     "metadata": {},
     "output_type": "execute_result"
    }
   ],
   "source": [
    "nouns_df.sum(axis=1).groupby(df['year']).sum()"
   ]
  },
  {
   "cell_type": "code",
   "execution_count": 149,
   "metadata": {},
   "outputs": [],
   "source": [
    "year_counts = nouns_df.groupby(df[\"year\"]).sum().T.divide(df[\"year\"].value_counts(), axis=1)"
   ]
  },
  {
   "cell_type": "code",
   "execution_count": 152,
   "metadata": {},
   "outputs": [
    {
     "data": {
      "text/plain": [
       "% chocolate              -0.000434\n",
       "% dark chocolate jus     -0.000617\n",
       "% dark ghana             -0.000434\n",
       "* available              -0.000918\n",
       "10-hour                   0.004315\n",
       "                            ...   \n",
       "ōtaki beetroot ketchup   -0.002179\n",
       "ōtaki cucumber           -0.000459\n",
       "ōtaki potato chips       -0.001372\n",
       "’ s                       0.004315\n",
       "’ s milk bun              0.004315\n",
       "Name: 2022, Length: 6043, dtype: float64"
      ]
     },
     "execution_count": 152,
     "metadata": {},
     "output_type": "execute_result"
    }
   ],
   "source": [
    "year_counts.subtract(year_counts.mean(axis=1), axis=0)[2022]"
   ]
  },
  {
   "cell_type": "code",
   "execution_count": 154,
   "metadata": {},
   "outputs": [
    {
     "data": {
      "text/plain": [
       "lettuce                    0.055268\n",
       "cheddar                    0.042662\n",
       "beef patty                 0.041099\n",
       "pickles                    0.039992\n",
       "iceberg                    0.036848\n",
       "brezelmania brioche bun    0.035980\n",
       "onion                      0.035288\n",
       "mozzarella                 0.035006\n",
       "brioche bun                0.034693\n",
       "american cheese            0.033961\n",
       "Name: 2022, dtype: float64"
      ]
     },
     "execution_count": 154,
     "metadata": {},
     "output_type": "execute_result"
    }
   ],
   "source": [
    "(\n",
    "    year_counts.subtract(year_counts.mean(axis=1), axis=0)[2022]\n",
    "    .sort_values(ascending=False)[:10]\n",
    ")"
   ]
  },
  {
   "cell_type": "code",
   "execution_count": 159,
   "metadata": {},
   "outputs": [
    {
     "data": {
      "text/plain": [
       "2014    0.039216\n",
       "2015    0.024691\n",
       "2016    0.058333\n",
       "2017    0.024390\n",
       "2018    0.016667\n",
       "2019    0.060086\n",
       "2020    0.041322\n",
       "2021    0.039062\n",
       "2022    0.077670\n",
       "Name: onion, dtype: float64"
      ]
     },
     "execution_count": 159,
     "metadata": {},
     "output_type": "execute_result"
    }
   ],
   "source": [
    "year_counts.loc[\"onion\"]"
   ]
  },
  {
   "cell_type": "markdown",
   "metadata": {},
   "source": [
    "## Picking Winners\n",
    "\n",
    "We're going to calculate the \"Uniqueness\" of each ingredient, and then see if finalist burgers are more unique than non-finalists."
   ]
  },
  {
   "cell_type": "code",
   "execution_count": null,
   "metadata": {},
   "outputs": [],
   "source": []
  },
  {
   "cell_type": "code",
   "execution_count": 160,
   "metadata": {},
   "outputs": [],
   "source": [
    "uniqueness_index = (nouns_df / nouns_df.sum()).replace(0, NaN).mean(axis=1)"
   ]
  },
  {
   "cell_type": "code",
   "execution_count": 163,
   "metadata": {},
   "outputs": [
    {
     "data": {
      "image/png": "[encoded data removed]",
      "text/plain": [
       "<Figure size 432x288 with 1 Axes>"
      ]
     },
     "metadata": {
      "needs_background": "light"
     },
     "output_type": "display_data"
    }
   ],
   "source": [
    "uniqueness_index.groupby(df.year).mean().plot()\n",
    "plt.xticks([year for year in range(2014, 2023)])\n",
    "plt.ylim(0.4, 0.6)\n",
    "plt.title('Average Proportion of Ingredient Uses by Year')\n",
    "plt.ylabel('Average Proportion of Uses')\n",
    "plt.savefig('uniqueness_by_year.png')"
   ]
  },
  {
   "cell_type": "code",
   "execution_count": 68,
   "metadata": {},
   "outputs": [
    {
     "data": {
      "text/plain": [
       "'Beer-battered fish with a seasonal crunchy slaw and homemade tartare sauce, on a freshly baked sesame bagel.'"
      ]
     },
     "execution_count": 68,
     "metadata": {},
     "output_type": "execute_result"
    }
   ],
   "source": [
    "df['burger description'].iloc[uniqueness_index.loc[df['year'] == 2019].sort_values(ascending=False).index[1]]"
   ]
  },
  {
   "cell_type": "code",
   "execution_count": 69,
   "metadata": {},
   "outputs": [],
   "source": [
    "actual = uniqueness_index.groupby(df.finalist).mean()"
   ]
  },
  {
   "cell_type": "markdown",
   "metadata": {},
   "source": [
    "The observed difference in the dataset is -3.9. In other words, the ingredients in finalist burgers were, on average, used in 60% fewer other burgers, or four burgers on averge."
   ]
  },
  {
   "cell_type": "code",
   "execution_count": 70,
   "metadata": {},
   "outputs": [
    {
     "data": {
      "text/plain": [
       "1.152236856032846"
      ]
     },
     "execution_count": 70,
     "metadata": {},
     "output_type": "execute_result"
    }
   ],
   "source": [
    "actual[1] / actual[0]"
   ]
  },
  {
   "cell_type": "markdown",
   "metadata": {},
   "source": [
    "We can use a quick-and-dirty Bayesian technique to measure significance. We randomly shuffle the data and measure the difference each time. If the difference is significant, we should see the observed difference fall well outside the bell-curve of the random differences."
   ]
  },
  {
   "cell_type": "code",
   "execution_count": 71,
   "metadata": {},
   "outputs": [],
   "source": [
    "differences = []\n",
    "for i in range(5000):\n",
    "    randoms = np.random.rand(len(uniqueness_index)) <= 22/555.0\n",
    "    grouped = uniqueness_index.groupby(randoms).mean()\n",
    "    differences.append(grouped[0] - grouped[1])"
   ]
  },
  {
   "cell_type": "code",
   "execution_count": 72,
   "metadata": {},
   "outputs": [
    {
     "data": {
      "image/png": "[encoded data removed]",
      "text/plain": [
       "<Figure size 432x288 with 1 Axes>"
      ]
     },
     "metadata": {
      "needs_background": "light"
     },
     "output_type": "display_data"
    }
   ],
   "source": [
    "pd.Series(differences).hist(bins=20)\n",
    "plt.axvline(x=actual[0]-actual[1], c='r')\n",
    "plt.show()"
   ]
  },
  {
   "cell_type": "markdown",
   "metadata": {},
   "source": [
    "Another way to visualise this is to look at the proportion of random results that were less than the observed difference:"
   ]
  },
  {
   "cell_type": "code",
   "execution_count": 73,
   "metadata": {},
   "outputs": [
    {
     "data": {
      "text/plain": [
       "0    1.0\n",
       "dtype: float64"
      ]
     },
     "execution_count": 73,
     "metadata": {},
     "output_type": "execute_result"
    }
   ],
   "source": [
    "from math import floor\n",
    "\n",
    "(pd.Series([floor(abs(i)) for i in differences]).value_counts()/len(differences)).cumsum()"
   ]
  },
  {
   "cell_type": "code",
   "execution_count": 74,
   "metadata": {},
   "outputs": [
    {
     "data": {
      "text/plain": [
       "0.997"
      ]
     },
     "execution_count": 74,
     "metadata": {},
     "output_type": "execute_result"
    }
   ],
   "source": [
    "(np.array(differences) > actual[0]-actual[1]).sum()/5000.0"
   ]
  },
  {
   "cell_type": "markdown",
   "metadata": {},
   "source": [
    "## Typical Burgers by Year\n",
    "\n",
    "Here's my nasty and uncientific way of doing this:"
   ]
  },
  {
   "cell_type": "code",
   "execution_count": 165,
   "metadata": {},
   "outputs": [
    {
     "data": {
      "text/plain": [
       "lime mayonnaise       0.800000\n",
       "zaida ’ s milk bun    0.714286\n",
       "baby cos              0.666667\n",
       "chuck                 0.600000\n",
       "bbq                   0.555556\n",
       "spicy                 0.555556\n",
       "tobacco onions        0.555556\n",
       "tofu                  0.555556\n",
       "chimichurri           0.500000\n",
       "baxters               0.500000\n",
       "dtype: float64"
      ]
     },
     "execution_count": 165,
     "metadata": {},
     "output_type": "execute_result"
    }
   ],
   "source": [
    "total = nouns_df.sum().loc[nouns_df.sum()>=5]\n",
    "year = nouns_df.groupby(df.year).sum().loc[2022][nouns_df.sum()>=5]\n",
    "(year/total).sort_values(ascending=False)[:10]"
   ]
  },
  {
   "cell_type": "code",
   "execution_count": 84,
   "metadata": {},
   "outputs": [
    {
     "data": {
      "text/plain": [
       "array(['Brisket patty with bourbon and bacon jam, Zany Zeus jalapeño popper and bread and butter pickles in an Arobake cornbread-style bun, with fries and chilli aioli (NF)',\n",
       "       'Beef patty with smoked cheese, American cheese, griddled onions, snap bacon, bread and butter pickles and secret sauce in a housebaked milk bun with fries (NF).',\n",
       "       'Smoked brisket patty with pastrami, mustard sauce, housemade bread and butter pickles and smoked barbeque sauce in a Brezelmania potato bun, with kettle chips and cheese fondue dip.',\n",
       "       'Beer-battered tarakihi with crayfish mayonnaise, bread and butter pickles, Kāpiti cheddar, and iceberg in a Brezelmania sesame bun, with salt and vinegar crinkle-cut fries.',\n",
       "       'Char-grilled beef patty with melted Kingsmeade Wairarapa Jack, slow-roasted beef cheeks marinated in Smoke and Oakum Gunpowder Rum, parmesan crusted ox tongue, green goddess aioli,  housemade bread and butter pickles and fried onion rings in a Borough Bakery sourdough bun, with handcut chips.',\n",
       "       '28day dry-aged Wagyu brisket and chuck patty with housemade bread and butter pickles, Kāpiti smoked gruyère, truffle and bone marrow smoked onions and Russian dressing in a Brezelmania potato bun served on fire with Havana coffee and bone marrow broth, parmesan fries and truffle aioli.',\n",
       "       'Wagyu beef brisket with jalapeño cheese, braised red cabbage, bread and butter pickles, aioli and housemade chipotle mustard sauce in a Brezelmania brioche bun, with pork crackling-dusted waffle fries.'],\n",
       "      dtype=object)"
      ]
     },
     "execution_count": 84,
     "metadata": {},
     "output_type": "execute_result"
    }
   ],
   "source": [
    "df.loc[df[\"burger description\"].str.contains(\"butter pickles\")][\"burger description\"].values"
   ]
  },
  {
   "cell_type": "code",
   "execution_count": 428,
   "metadata": {},
   "outputs": [
    {
     "data": {
      "text/html": [
       "<div>\n",
       "<style scoped>\n",
       "    .dataframe tbody tr th:only-of-type {\n",
       "        vertical-align: middle;\n",
       "    }\n",
       "\n",
       "    .dataframe tbody tr th {\n",
       "        vertical-align: top;\n",
       "    }\n",
       "\n",
       "    .dataframe thead th {\n",
       "        text-align: right;\n",
       "    }\n",
       "</style>\n",
       "<table border=\"1\" class=\"dataframe\">\n",
       "  <thead>\n",
       "    <tr style=\"text-align: right;\">\n",
       "      <th></th>\n",
       "      <th>burger name</th>\n",
       "      <th>burger description</th>\n",
       "      <th>restaurant</th>\n",
       "      <th>price</th>\n",
       "      <th>year</th>\n",
       "      <th>beef</th>\n",
       "      <th>chicken</th>\n",
       "      <th>duck</th>\n",
       "      <th>lamb</th>\n",
       "      <th>pork</th>\n",
       "      <th>seafood</th>\n",
       "      <th>sweet</th>\n",
       "      <th>vegetarian</th>\n",
       "      <th>venison</th>\n",
       "      <th>not your usual</th>\n",
       "      <th>finalist</th>\n",
       "      <th>winner</th>\n",
       "      <th>other</th>\n",
       "      <th>inflation_adjusted_price</th>\n",
       "    </tr>\n",
       "  </thead>\n",
       "  <tbody>\n",
       "    <tr>\n",
       "      <th>901</th>\n",
       "      <td>East Meats West</td>\n",
       "      <td>Slow-cooked St. Louis-style pork rib rack with...</td>\n",
       "      <td>Mac's Brewbar</td>\n",
       "      <td>100.0</td>\n",
       "      <td>2020</td>\n",
       "      <td>0</td>\n",
       "      <td>0</td>\n",
       "      <td>0</td>\n",
       "      <td>0</td>\n",
       "      <td>1</td>\n",
       "      <td>1</td>\n",
       "      <td>0</td>\n",
       "      <td>0</td>\n",
       "      <td>0</td>\n",
       "      <td>0</td>\n",
       "      <td>0</td>\n",
       "      <td>0</td>\n",
       "      <td>0</td>\n",
       "      <td>92.592593</td>\n",
       "    </tr>\n",
       "    <tr>\n",
       "      <th>639</th>\n",
       "      <td>Bourgeois Burger High Tea</td>\n",
       "      <td>Burger High Tea including Zelati’s cookie s'mo...</td>\n",
       "      <td>Hippopotamus Restaurant</td>\n",
       "      <td>45.0</td>\n",
       "      <td>2019</td>\n",
       "      <td>0</td>\n",
       "      <td>0</td>\n",
       "      <td>0</td>\n",
       "      <td>0</td>\n",
       "      <td>0</td>\n",
       "      <td>0</td>\n",
       "      <td>0</td>\n",
       "      <td>0</td>\n",
       "      <td>0</td>\n",
       "      <td>1</td>\n",
       "      <td>0</td>\n",
       "      <td>0</td>\n",
       "      <td>1</td>\n",
       "      <td>42.452830</td>\n",
       "    </tr>\n",
       "    <tr>\n",
       "      <th>686</th>\n",
       "      <td>Oh La La</td>\n",
       "      <td>Beef patty stuffed with braised beef short rib...</td>\n",
       "      <td>One80 Restaurant</td>\n",
       "      <td>33.0</td>\n",
       "      <td>2019</td>\n",
       "      <td>1</td>\n",
       "      <td>0</td>\n",
       "      <td>0</td>\n",
       "      <td>0</td>\n",
       "      <td>0</td>\n",
       "      <td>0</td>\n",
       "      <td>0</td>\n",
       "      <td>0</td>\n",
       "      <td>0</td>\n",
       "      <td>0</td>\n",
       "      <td>0</td>\n",
       "      <td>0</td>\n",
       "      <td>0</td>\n",
       "      <td>31.132075</td>\n",
       "    </tr>\n",
       "    <tr>\n",
       "      <th>873</th>\n",
       "      <td>Lucky Number 8</td>\n",
       "      <td>Crayfish patty with Ōtaki pork patty, cos lett...</td>\n",
       "      <td>Hot Sauce</td>\n",
       "      <td>32.0</td>\n",
       "      <td>2020</td>\n",
       "      <td>0</td>\n",
       "      <td>0</td>\n",
       "      <td>0</td>\n",
       "      <td>0</td>\n",
       "      <td>1</td>\n",
       "      <td>1</td>\n",
       "      <td>0</td>\n",
       "      <td>0</td>\n",
       "      <td>0</td>\n",
       "      <td>0</td>\n",
       "      <td>0</td>\n",
       "      <td>0</td>\n",
       "      <td>0</td>\n",
       "      <td>29.629630</td>\n",
       "    </tr>\n",
       "    <tr>\n",
       "      <th>225</th>\n",
       "      <td>Kai Moana Mini Burgers</td>\n",
       "      <td>Three seafood sliders: Pāua fritter with wasab...</td>\n",
       "      <td>Hippopotamus Restaurant</td>\n",
       "      <td>32.0</td>\n",
       "      <td>2017</td>\n",
       "      <td>0</td>\n",
       "      <td>0</td>\n",
       "      <td>0</td>\n",
       "      <td>0</td>\n",
       "      <td>0</td>\n",
       "      <td>1</td>\n",
       "      <td>0</td>\n",
       "      <td>0</td>\n",
       "      <td>0</td>\n",
       "      <td>0</td>\n",
       "      <td>0</td>\n",
       "      <td>0</td>\n",
       "      <td>0</td>\n",
       "      <td>31.372549</td>\n",
       "    </tr>\n",
       "    <tr>\n",
       "      <th>406</th>\n",
       "      <td>The Game Changer</td>\n",
       "      <td>Riverbank Market venison burger with house-cur...</td>\n",
       "      <td>Matterhorn</td>\n",
       "      <td>32.0</td>\n",
       "      <td>2014</td>\n",
       "      <td>0</td>\n",
       "      <td>0</td>\n",
       "      <td>0</td>\n",
       "      <td>0</td>\n",
       "      <td>0</td>\n",
       "      <td>0</td>\n",
       "      <td>0</td>\n",
       "      <td>0</td>\n",
       "      <td>1</td>\n",
       "      <td>0</td>\n",
       "      <td>0</td>\n",
       "      <td>0</td>\n",
       "      <td>1</td>\n",
       "      <td>32.000000</td>\n",
       "    </tr>\n",
       "    <tr>\n",
       "      <th>798</th>\n",
       "      <td>Wagyu, Truffle and Bordelaise</td>\n",
       "      <td>Wagyu chuck with truffle flavoured Zany Zeus m...</td>\n",
       "      <td>Atlas</td>\n",
       "      <td>30.0</td>\n",
       "      <td>2020</td>\n",
       "      <td>1</td>\n",
       "      <td>0</td>\n",
       "      <td>0</td>\n",
       "      <td>0</td>\n",
       "      <td>0</td>\n",
       "      <td>0</td>\n",
       "      <td>0</td>\n",
       "      <td>0</td>\n",
       "      <td>0</td>\n",
       "      <td>0</td>\n",
       "      <td>0</td>\n",
       "      <td>0</td>\n",
       "      <td>0</td>\n",
       "      <td>27.777778</td>\n",
       "    </tr>\n",
       "    <tr>\n",
       "      <th>1023</th>\n",
       "      <td>The Stra-BURG-anza 3rio</td>\n",
       "      <td>Three sliders three ways\\n1. Spit-roasted mari...</td>\n",
       "      <td>Wildfire Churrascaria</td>\n",
       "      <td>30.0</td>\n",
       "      <td>2020</td>\n",
       "      <td>1</td>\n",
       "      <td>1</td>\n",
       "      <td>0</td>\n",
       "      <td>0</td>\n",
       "      <td>1</td>\n",
       "      <td>0</td>\n",
       "      <td>0</td>\n",
       "      <td>0</td>\n",
       "      <td>0</td>\n",
       "      <td>0</td>\n",
       "      <td>0</td>\n",
       "      <td>0</td>\n",
       "      <td>0</td>\n",
       "      <td>27.777778</td>\n",
       "    </tr>\n",
       "    <tr>\n",
       "      <th>313</th>\n",
       "      <td>Black and Gold</td>\n",
       "      <td>Pāuā patty with cucumber, baby cos and lemon m...</td>\n",
       "      <td>Boulcott Street Bistro</td>\n",
       "      <td>29.0</td>\n",
       "      <td>2015</td>\n",
       "      <td>0</td>\n",
       "      <td>0</td>\n",
       "      <td>0</td>\n",
       "      <td>0</td>\n",
       "      <td>0</td>\n",
       "      <td>1</td>\n",
       "      <td>0</td>\n",
       "      <td>0</td>\n",
       "      <td>0</td>\n",
       "      <td>0</td>\n",
       "      <td>0</td>\n",
       "      <td>0</td>\n",
       "      <td>0</td>\n",
       "      <td>28.712871</td>\n",
       "    </tr>\n",
       "    <tr>\n",
       "      <th>490</th>\n",
       "      <td>The BBW</td>\n",
       "      <td>Wairarapa wagyu beef with baby watercress, Kāp...</td>\n",
       "      <td>Muse eatery &amp; bar</td>\n",
       "      <td>29.0</td>\n",
       "      <td>2016</td>\n",
       "      <td>1</td>\n",
       "      <td>0</td>\n",
       "      <td>0</td>\n",
       "      <td>0</td>\n",
       "      <td>0</td>\n",
       "      <td>0</td>\n",
       "      <td>0</td>\n",
       "      <td>0</td>\n",
       "      <td>0</td>\n",
       "      <td>0</td>\n",
       "      <td>0</td>\n",
       "      <td>0</td>\n",
       "      <td>0</td>\n",
       "      <td>28.712871</td>\n",
       "    </tr>\n",
       "    <tr>\n",
       "      <th>823</th>\n",
       "      <td>The Hog</td>\n",
       "      <td>Free range pork patty with honey candied bacon...</td>\n",
       "      <td>Charley Noble Eatery &amp; Bar</td>\n",
       "      <td>29.0</td>\n",
       "      <td>2020</td>\n",
       "      <td>0</td>\n",
       "      <td>0</td>\n",
       "      <td>0</td>\n",
       "      <td>0</td>\n",
       "      <td>1</td>\n",
       "      <td>0</td>\n",
       "      <td>0</td>\n",
       "      <td>0</td>\n",
       "      <td>0</td>\n",
       "      <td>0</td>\n",
       "      <td>0</td>\n",
       "      <td>0</td>\n",
       "      <td>0</td>\n",
       "      <td>26.851852</td>\n",
       "    </tr>\n",
       "    <tr>\n",
       "      <th>837</th>\n",
       "      <td>Firestarter</td>\n",
       "      <td>28day dry-aged Wagyu brisket and chuck patty w...</td>\n",
       "      <td>Dillinger's</td>\n",
       "      <td>29.0</td>\n",
       "      <td>2020</td>\n",
       "      <td>1</td>\n",
       "      <td>0</td>\n",
       "      <td>0</td>\n",
       "      <td>0</td>\n",
       "      <td>0</td>\n",
       "      <td>0</td>\n",
       "      <td>0</td>\n",
       "      <td>0</td>\n",
       "      <td>0</td>\n",
       "      <td>0</td>\n",
       "      <td>0</td>\n",
       "      <td>0</td>\n",
       "      <td>0</td>\n",
       "      <td>26.851852</td>\n",
       "    </tr>\n",
       "    <tr>\n",
       "      <th>777</th>\n",
       "      <td>La Plume!</td>\n",
       "      <td>Crispy sous-vide chicken thigh with caramelise...</td>\n",
       "      <td>Vivant! Restaurant</td>\n",
       "      <td>28.0</td>\n",
       "      <td>2019</td>\n",
       "      <td>0</td>\n",
       "      <td>1</td>\n",
       "      <td>0</td>\n",
       "      <td>0</td>\n",
       "      <td>0</td>\n",
       "      <td>0</td>\n",
       "      <td>0</td>\n",
       "      <td>0</td>\n",
       "      <td>0</td>\n",
       "      <td>0</td>\n",
       "      <td>0</td>\n",
       "      <td>0</td>\n",
       "      <td>0</td>\n",
       "      <td>26.415094</td>\n",
       "    </tr>\n",
       "    <tr>\n",
       "      <th>591</th>\n",
       "      <td>Coulibiac Classic</td>\n",
       "      <td>Mānuka smoked and seared salmon with sauteed m...</td>\n",
       "      <td>Capitol Restaurant</td>\n",
       "      <td>28.0</td>\n",
       "      <td>2019</td>\n",
       "      <td>0</td>\n",
       "      <td>0</td>\n",
       "      <td>0</td>\n",
       "      <td>0</td>\n",
       "      <td>0</td>\n",
       "      <td>1</td>\n",
       "      <td>0</td>\n",
       "      <td>0</td>\n",
       "      <td>0</td>\n",
       "      <td>0</td>\n",
       "      <td>0</td>\n",
       "      <td>0</td>\n",
       "      <td>0</td>\n",
       "      <td>26.415094</td>\n",
       "    </tr>\n",
       "    <tr>\n",
       "      <th>138</th>\n",
       "      <td>It's Not Our First Rodeo</td>\n",
       "      <td>All beef patty, double American cheese, bacon,...</td>\n",
       "      <td>The Bresolin</td>\n",
       "      <td>28.0</td>\n",
       "      <td>2018</td>\n",
       "      <td>1</td>\n",
       "      <td>0</td>\n",
       "      <td>0</td>\n",
       "      <td>0</td>\n",
       "      <td>0</td>\n",
       "      <td>0</td>\n",
       "      <td>0</td>\n",
       "      <td>0</td>\n",
       "      <td>0</td>\n",
       "      <td>0</td>\n",
       "      <td>0</td>\n",
       "      <td>0</td>\n",
       "      <td>0</td>\n",
       "      <td>26.923077</td>\n",
       "    </tr>\n",
       "    <tr>\n",
       "      <th>142</th>\n",
       "      <td>Chicky Chicky Wah Wah v.s. Decapod Davy &amp; The ...</td>\n",
       "      <td>BBQ chicken with sous-vide pineapple, bacon, s...</td>\n",
       "      <td>The Crab Shack</td>\n",
       "      <td>28.0</td>\n",
       "      <td>2018</td>\n",
       "      <td>0</td>\n",
       "      <td>1</td>\n",
       "      <td>0</td>\n",
       "      <td>0</td>\n",
       "      <td>0</td>\n",
       "      <td>0</td>\n",
       "      <td>0</td>\n",
       "      <td>0</td>\n",
       "      <td>0</td>\n",
       "      <td>0</td>\n",
       "      <td>0</td>\n",
       "      <td>0</td>\n",
       "      <td>0</td>\n",
       "      <td>26.923077</td>\n",
       "    </tr>\n",
       "    <tr>\n",
       "      <th>738</th>\n",
       "      <td>This Little Piggy has Seoul</td>\n",
       "      <td>Korean slow-roasted pork belly with tempura so...</td>\n",
       "      <td>The Crab Shack</td>\n",
       "      <td>28.0</td>\n",
       "      <td>2019</td>\n",
       "      <td>0</td>\n",
       "      <td>0</td>\n",
       "      <td>0</td>\n",
       "      <td>0</td>\n",
       "      <td>1</td>\n",
       "      <td>0</td>\n",
       "      <td>0</td>\n",
       "      <td>0</td>\n",
       "      <td>0</td>\n",
       "      <td>0</td>\n",
       "      <td>0</td>\n",
       "      <td>0</td>\n",
       "      <td>0</td>\n",
       "      <td>26.415094</td>\n",
       "    </tr>\n",
       "    <tr>\n",
       "      <th>708</th>\n",
       "      <td>Crusin' on the Interislander</td>\n",
       "      <td>Wagyu beef patty with crispy Stewart Island mu...</td>\n",
       "      <td>Salty Pidgin</td>\n",
       "      <td>28.0</td>\n",
       "      <td>2019</td>\n",
       "      <td>1</td>\n",
       "      <td>0</td>\n",
       "      <td>0</td>\n",
       "      <td>0</td>\n",
       "      <td>0</td>\n",
       "      <td>0</td>\n",
       "      <td>0</td>\n",
       "      <td>0</td>\n",
       "      <td>0</td>\n",
       "      <td>0</td>\n",
       "      <td>0</td>\n",
       "      <td>0</td>\n",
       "      <td>0</td>\n",
       "      <td>26.415094</td>\n",
       "    </tr>\n",
       "    <tr>\n",
       "      <th>123</th>\n",
       "      <td>Pidgin Pāuā Party Patty</td>\n",
       "      <td>Pāuā, garlic and parsley patty with watercress...</td>\n",
       "      <td>Salty Pidgin</td>\n",
       "      <td>28.0</td>\n",
       "      <td>2018</td>\n",
       "      <td>0</td>\n",
       "      <td>0</td>\n",
       "      <td>0</td>\n",
       "      <td>0</td>\n",
       "      <td>0</td>\n",
       "      <td>1</td>\n",
       "      <td>0</td>\n",
       "      <td>0</td>\n",
       "      <td>0</td>\n",
       "      <td>0</td>\n",
       "      <td>0</td>\n",
       "      <td>0</td>\n",
       "      <td>0</td>\n",
       "      <td>26.923077</td>\n",
       "    </tr>\n",
       "    <tr>\n",
       "      <th>1008</th>\n",
       "      <td>La Montagne de Fromage</td>\n",
       "      <td>Chicken thigh with Mont D’Or cheese,  sweet an...</td>\n",
       "      <td>Two Grey</td>\n",
       "      <td>28.0</td>\n",
       "      <td>2020</td>\n",
       "      <td>0</td>\n",
       "      <td>1</td>\n",
       "      <td>0</td>\n",
       "      <td>0</td>\n",
       "      <td>0</td>\n",
       "      <td>0</td>\n",
       "      <td>0</td>\n",
       "      <td>0</td>\n",
       "      <td>0</td>\n",
       "      <td>0</td>\n",
       "      <td>0</td>\n",
       "      <td>0</td>\n",
       "      <td>0</td>\n",
       "      <td>25.925926</td>\n",
       "    </tr>\n",
       "  </tbody>\n",
       "</table>\n",
       "</div>"
      ],
      "text/plain": [
       "                                            burger name  \\\n",
       "901                                     East Meats West   \n",
       "639                           Bourgeois Burger High Tea   \n",
       "686                                            Oh La La   \n",
       "873                                      Lucky Number 8   \n",
       "225                              Kai Moana Mini Burgers   \n",
       "406                                    The Game Changer   \n",
       "798                       Wagyu, Truffle and Bordelaise   \n",
       "1023                            The Stra-BURG-anza 3rio   \n",
       "313                                      Black and Gold   \n",
       "490                                             The BBW   \n",
       "823                                             The Hog   \n",
       "837                                         Firestarter   \n",
       "777                                           La Plume!   \n",
       "591                                   Coulibiac Classic   \n",
       "138                            It's Not Our First Rodeo   \n",
       "142   Chicky Chicky Wah Wah v.s. Decapod Davy & The ...   \n",
       "738                         This Little Piggy has Seoul   \n",
       "708                        Crusin' on the Interislander   \n",
       "123                             Pidgin Pāuā Party Patty   \n",
       "1008                             La Montagne de Fromage   \n",
       "\n",
       "                                     burger description  \\\n",
       "901   Slow-cooked St. Louis-style pork rib rack with...   \n",
       "639   Burger High Tea including Zelati’s cookie s'mo...   \n",
       "686   Beef patty stuffed with braised beef short rib...   \n",
       "873   Crayfish patty with Ōtaki pork patty, cos lett...   \n",
       "225   Three seafood sliders: Pāua fritter with wasab...   \n",
       "406   Riverbank Market venison burger with house-cur...   \n",
       "798   Wagyu chuck with truffle flavoured Zany Zeus m...   \n",
       "1023  Three sliders three ways\\n1. Spit-roasted mari...   \n",
       "313   Pāuā patty with cucumber, baby cos and lemon m...   \n",
       "490   Wairarapa wagyu beef with baby watercress, Kāp...   \n",
       "823   Free range pork patty with honey candied bacon...   \n",
       "837   28day dry-aged Wagyu brisket and chuck patty w...   \n",
       "777   Crispy sous-vide chicken thigh with caramelise...   \n",
       "591   Mānuka smoked and seared salmon with sauteed m...   \n",
       "138   All beef patty, double American cheese, bacon,...   \n",
       "142   BBQ chicken with sous-vide pineapple, bacon, s...   \n",
       "738   Korean slow-roasted pork belly with tempura so...   \n",
       "708   Wagyu beef patty with crispy Stewart Island mu...   \n",
       "123   Pāuā, garlic and parsley patty with watercress...   \n",
       "1008  Chicken thigh with Mont D’Or cheese,  sweet an...   \n",
       "\n",
       "                      restaurant  price  year  beef  chicken  duck  lamb  \\\n",
       "901                Mac's Brewbar  100.0  2020     0        0     0     0   \n",
       "639      Hippopotamus Restaurant   45.0  2019     0        0     0     0   \n",
       "686             One80 Restaurant   33.0  2019     1        0     0     0   \n",
       "873                    Hot Sauce   32.0  2020     0        0     0     0   \n",
       "225      Hippopotamus Restaurant   32.0  2017     0        0     0     0   \n",
       "406                   Matterhorn   32.0  2014     0        0     0     0   \n",
       "798                        Atlas   30.0  2020     1        0     0     0   \n",
       "1023       Wildfire Churrascaria   30.0  2020     1        1     0     0   \n",
       "313       Boulcott Street Bistro   29.0  2015     0        0     0     0   \n",
       "490            Muse eatery & bar   29.0  2016     1        0     0     0   \n",
       "823   Charley Noble Eatery & Bar   29.0  2020     0        0     0     0   \n",
       "837                  Dillinger's   29.0  2020     1        0     0     0   \n",
       "777           Vivant! Restaurant   28.0  2019     0        1     0     0   \n",
       "591           Capitol Restaurant   28.0  2019     0        0     0     0   \n",
       "138                 The Bresolin   28.0  2018     1        0     0     0   \n",
       "142               The Crab Shack   28.0  2018     0        1     0     0   \n",
       "738               The Crab Shack   28.0  2019     0        0     0     0   \n",
       "708                 Salty Pidgin   28.0  2019     1        0     0     0   \n",
       "123                 Salty Pidgin   28.0  2018     0        0     0     0   \n",
       "1008                    Two Grey   28.0  2020     0        1     0     0   \n",
       "\n",
       "      pork  seafood  sweet  vegetarian  venison  not your usual  finalist  \\\n",
       "901      1        1      0           0        0               0         0   \n",
       "639      0        0      0           0        0               1         0   \n",
       "686      0        0      0           0        0               0         0   \n",
       "873      1        1      0           0        0               0         0   \n",
       "225      0        1      0           0        0               0         0   \n",
       "406      0        0      0           0        1               0         0   \n",
       "798      0        0      0           0        0               0         0   \n",
       "1023     1        0      0           0        0               0         0   \n",
       "313      0        1      0           0        0               0         0   \n",
       "490      0        0      0           0        0               0         0   \n",
       "823      1        0      0           0        0               0         0   \n",
       "837      0        0      0           0        0               0         0   \n",
       "777      0        0      0           0        0               0         0   \n",
       "591      0        1      0           0        0               0         0   \n",
       "138      0        0      0           0        0               0         0   \n",
       "142      0        0      0           0        0               0         0   \n",
       "738      1        0      0           0        0               0         0   \n",
       "708      0        0      0           0        0               0         0   \n",
       "123      0        1      0           0        0               0         0   \n",
       "1008     0        0      0           0        0               0         0   \n",
       "\n",
       "      winner  other  inflation_adjusted_price  \n",
       "901        0      0                 92.592593  \n",
       "639        0      1                 42.452830  \n",
       "686        0      0                 31.132075  \n",
       "873        0      0                 29.629630  \n",
       "225        0      0                 31.372549  \n",
       "406        0      1                 32.000000  \n",
       "798        0      0                 27.777778  \n",
       "1023       0      0                 27.777778  \n",
       "313        0      0                 28.712871  \n",
       "490        0      0                 28.712871  \n",
       "823        0      0                 26.851852  \n",
       "837        0      0                 26.851852  \n",
       "777        0      0                 26.415094  \n",
       "591        0      0                 26.415094  \n",
       "138        0      0                 26.923077  \n",
       "142        0      0                 26.923077  \n",
       "738        0      0                 26.415094  \n",
       "708        0      0                 26.415094  \n",
       "123        0      0                 26.923077  \n",
       "1008       0      0                 25.925926  "
      ]
     },
     "execution_count": 428,
     "metadata": {},
     "output_type": "execute_result"
    }
   ],
   "source": [
    "df.sort_values(\"price\", ascending=False).head(20)"
   ]
  },
  {
   "cell_type": "code",
   "execution_count": null,
   "metadata": {},
   "outputs": [],
   "source": []
  },
  {
   "cell_type": "code",
   "execution_count": null,
   "metadata": {},
   "outputs": [],
   "source": []
  }
 ],
 "metadata": {
  "kernelspec": {
   "display_name": "Python 3 (ipykernel)",
   "language": "python",
   "name": "python3"
  },
  "language_info": {
   "codemirror_mode": {
    "name": "ipython",
    "version": 3
   },
   "file_extension": ".py",
   "mimetype": "text/x-python",
   "name": "python",
   "nbconvert_exporter": "python",
   "pygments_lexer": "ipython3",
   "version": "3.9.12"
  }
 },
 "nbformat": 4,
 "nbformat_minor": 1
}
