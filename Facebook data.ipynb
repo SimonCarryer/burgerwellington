{
 "cells": [
  {
   "cell_type": "code",
   "execution_count": 97,
   "metadata": {
    "collapsed": true
   },
   "outputs": [],
   "source": [
    "app_id = '387052281800021'\n",
    "app_secret = 'c41c29ffe1f87cfeba6dcaceddfe8e9f'\n",
    "token = app_id + '|' + app_secret\n",
    "\n",
    "wellington_lat = -41.2865\n",
    "wellington_long= 174.7762"
   ]
  },
  {
   "cell_type": "code",
   "execution_count": 98,
   "metadata": {
    "collapsed": true
   },
   "outputs": [],
   "source": [
    "import requests"
   ]
  },
  {
   "cell_type": "code",
   "execution_count": 99,
   "metadata": {
    "collapsed": false
   },
   "outputs": [],
   "source": [
    "search_url = 'https://graph.facebook.com/search'"
   ]
  },
  {
   "cell_type": "code",
   "execution_count": 102,
   "metadata": {
    "collapsed": false
   },
   "outputs": [],
   "source": [
    "params = {\n",
    "        'center': '-41.2865,174.7762',\n",
    "        'distance': 1000,\n",
    "        'q':'loretta',\n",
    "        'fields': 'category_list, name, checkins, location_page_id, engagement',\n",
    "        'access_token':token,\n",
    "    'type':'place'\n",
    "         }\n",
    "\n",
    "r = requests.get(search_url, params)"
   ]
  },
  {
   "cell_type": "code",
   "execution_count": 103,
   "metadata": {
    "collapsed": false
   },
   "outputs": [
    {
     "data": {
      "text/plain": [
       "u'{\"data\":[{\"category_list\":[{\"id\":\"2500\",\"name\":\"Local Business\"}],\"name\":\"Loretta\",\"checkins\":4047,\"engagement\":{\"count\":772,\"social_sentence\":\"772 people like this.\"},\"id\":\"407702706036236\"}]}'"
      ]
     },
     "execution_count": 103,
     "metadata": {},
     "output_type": "execute_result"
    }
   ],
   "source": [
    "r.text"
   ]
  },
  {
   "cell_type": "code",
   "execution_count": 78,
   "metadata": {
    "collapsed": true
   },
   "outputs": [],
   "source": [
    "place_id = 407702706036236"
   ]
  },
  {
   "cell_type": "code",
   "execution_count": 114,
   "metadata": {
    "collapsed": true
   },
   "outputs": [],
   "source": [
    "checkin_url = 'https://graph.facebook.com/407702692702904/posts'\n",
    "params = {\n",
    "        'access_token':token,\n",
    "         }\n",
    "\n",
    "r = requests.get(checkin_url, params)"
   ]
  },
  {
   "cell_type": "code",
   "execution_count": 115,
   "metadata": {
    "collapsed": false
   },
   "outputs": [
    {
     "data": {
      "text/plain": [
       "u'{\"error\":{\"message\":\"(#10) To use \\'Page Public Content Access\\', your use of this endpoint must be reviewed and approved by Facebook. To submit this \\'Page Public Content Access\\' feature for review please read our documentation on reviewable features: https:\\\\/\\\\/developers.facebook.com\\\\/docs\\\\/apps\\\\/review.\",\"type\":\"OAuthException\",\"code\":10,\"fbtrace_id\":\"AtHDEjR3sbT\"}}'"
      ]
     },
     "execution_count": 115,
     "metadata": {},
     "output_type": "execute_result"
    }
   ],
   "source": [
    "r.text"
   ]
  },
  {
   "cell_type": "code",
   "execution_count": null,
   "metadata": {
    "collapsed": true
   },
   "outputs": [],
   "source": []
  }
 ],
 "metadata": {
  "kernelspec": {
   "display_name": "Python 2",
   "language": "python",
   "name": "python2"
  },
  "language_info": {
   "codemirror_mode": {
    "name": "ipython",
    "version": 2
   },
   "file_extension": ".py",
   "mimetype": "text/x-python",
   "name": "python",
   "nbconvert_exporter": "python",
   "pygments_lexer": "ipython2",
   "version": "2.7.9"
  }
 },
 "nbformat": 4,
 "nbformat_minor": 0
}
