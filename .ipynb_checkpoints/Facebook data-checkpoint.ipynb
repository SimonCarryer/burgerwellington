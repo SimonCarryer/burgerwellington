{
 "cells": [
  {
   "cell_type": "code",
   "execution_count": 52,
   "metadata": {
    "collapsed": true
   },
   "outputs": [],
   "source": [
    "app_id = '387052281800021'\n",
    "app_secret = 'c41c29ffe1f87cfeba6dcaceddfe8e9f'\n",
    "token = app_id + '|' + app_secret\n",
    "\n",
    "wellington_lat = -41.2865\n",
    "wellington_long= 174.7762"
   ]
  },
  {
   "cell_type": "code",
   "execution_count": 22,
   "metadata": {
    "collapsed": true
   },
   "outputs": [],
   "source": [
    "import requests"
   ]
  },
  {
   "cell_type": "code",
   "execution_count": 23,
   "metadata": {
    "collapsed": false
   },
   "outputs": [],
   "source": [
    "search_url = 'https://graph.facebook.com/search'"
   ]
  },
  {
   "cell_type": "code",
   "execution_count": 49,
   "metadata": {
    "collapsed": false
   },
   "outputs": [],
   "source": [
    "params = {\n",
    "        'center': wellington_lat, wellington_long\n",
    "        'q':'loretta',\n",
    "        'access_token':token,\n",
    "    'type':'place'\n",
    "         }\n",
    "\n",
    "r = requests.get(search_url, params)"
   ]
  },
  {
   "cell_type": "code",
   "execution_count": 50,
   "metadata": {
    "collapsed": false
   },
   "outputs": [
    {
     "data": {
      "text/plain": [
       "u'{\"data\":[{\"name\":\"Loretta\",\"id\":\"1828102314121112\"},{\"name\":\"Loretta\",\"id\":\"290309088015863\"},{\"name\":\"Loretta\",\"id\":\"407702706036236\"},{\"name\":\"Loretta\\'s\",\"id\":\"1016049395124375\"},{\"name\":\"Loretta\",\"id\":\"370536930104537\"},{\"name\":\"Loretta Lynn\\'s Ranch - Campground & Event Center\",\"id\":\"10150241197971111\"},{\"name\":\"Loretta\",\"id\":\"1267057213374592\"},{\"name\":\"The Loretta Steakhouse\",\"id\":\"324300697664328\"},{\"name\":\"Loretta Lynn\\'s Kitchen\",\"id\":\"205362169487287\"},{\"name\":\"Loretta\",\"id\":\"1013918745404084\"},{\"name\":\"Loretta\\'s Nail Salon\",\"id\":\"1687105358284693\"},{\"name\":\"Loretta\\'s\",\"id\":\"1687864761471079\"},{\"name\":\"LORETTA\",\"id\":\"240963605960996\"},{\"name\":\"LorettaStudio\",\"id\":\"1540964599364323\"},{\"name\":\"LORETTA.sk\",\"id\":\"1305486879514849\"},{\"name\":\"Lorettas Northwesterner\",\"id\":\"351774274897076\"},{\"name\":\"Loretta Caf\\\\u00e9 & Comidas\",\"id\":\"347440629069197\"},{\"name\":\"Loretta\\'s Catering and Venue\",\"id\":\"119508245100952\"},{\"name\":\"Loretta Motos Chile\",\"id\":\"617867668260386\"},{\"name\":\"Loretta, Kansas\",\"id\":\"214294258590241\"},{\"name\":\"Loretta Lynn Dude Ranch\",\"id\":\"204522209590981\"},{\"name\":\"Loretta\\'s Catering\",\"id\":\"763809803720161\"},{\"name\":\"Loretta Accornero - Harcourts Ascot\",\"id\":\"852447624899243\"},{\"name\":\"Loretta cafeter\\\\u00eda\",\"id\":\"1297050093736002\"},{\"name\":\"Loretta\\'s Last Call\",\"id\":\"1448444758730412\"}],\"paging\":{\"cursors\":{\"after\":\"MjQZD\"},\"next\":\"https:\\\\/\\\\/graph.facebook.com\\\\/v3.0\\\\/search?access_token=387052281800021\\\\u00257Cc41c29ffe1f87cfeba6dcaceddfe8e9f&q=loretta&type=place&limit=25&after=MjQZD\"}}'"
      ]
     },
     "execution_count": 50,
     "metadata": {},
     "output_type": "execute_result"
    }
   ],
   "source": [
    "r.text"
   ]
  },
  {
   "cell_type": "code",
   "execution_count": null,
   "metadata": {
    "collapsed": true
   },
   "outputs": [],
   "source": []
  }
 ],
 "metadata": {
  "kernelspec": {
   "display_name": "Python 2",
   "language": "python",
   "name": "python2"
  },
  "language_info": {
   "codemirror_mode": {
    "name": "ipython",
    "version": 2
   },
   "file_extension": ".py",
   "mimetype": "text/x-python",
   "name": "python",
   "nbconvert_exporter": "python",
   "pygments_lexer": "ipython2",
   "version": "2.7.9"
  }
 },
 "nbformat": 4,
 "nbformat_minor": 0
}
